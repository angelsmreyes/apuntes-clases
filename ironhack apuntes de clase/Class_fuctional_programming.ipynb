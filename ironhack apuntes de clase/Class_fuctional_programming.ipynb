{
 "cells": [
  {
   "cell_type": "markdown",
   "id": "d46409ef",
   "metadata": {},
   "source": [
    "### Programación funcional"
   ]
  },
  {
   "cell_type": "code",
   "execution_count": 1,
   "id": "ff438652",
   "metadata": {},
   "outputs": [
    {
     "name": "stdout",
     "output_type": "stream",
     "text": [
      "4 9\n"
     ]
    }
   ],
   "source": [
    "#Programación Procedimental\n",
    "\n",
    "a = [1, 2, 3, 4]\n",
    "\n",
    "b = [2, 4, 6, 9]\n",
    "\n",
    "for i, j in zip(a, b):\n",
    "    if i % 2 == 0 and j % 2 == 1:\n",
    "        print(i, j)"
   ]
  },
  {
   "cell_type": "code",
   "execution_count": 3,
   "id": "6973e5b0",
   "metadata": {},
   "outputs": [
    {
     "name": "stdout",
     "output_type": "stream",
     "text": [
      "LETRAS\n"
     ]
    }
   ],
   "source": [
    "variable = 'letras'\n",
    "count = 0\n",
    "\n",
    "while count < 20:\n",
    "    variable = variable.upper()\n",
    "    count = 20\n",
    "    \n",
    "print(variable)"
   ]
  },
  {
   "cell_type": "code",
   "execution_count": 4,
   "id": "6b8cc133",
   "metadata": {},
   "outputs": [
    {
     "name": "stdout",
     "output_type": "stream",
     "text": [
      "LETRAS\n"
     ]
    }
   ],
   "source": [
    "def letras(): \n",
    "    variable = 'letras'\n",
    "    count = 0\n",
    "\n",
    "    while count < 20:\n",
    "        variable = variable.upper()\n",
    "        count = 20\n",
    "    return variable\n",
    "\n",
    "print(variable)"
   ]
  },
  {
   "cell_type": "code",
   "execution_count": 5,
   "id": "a25d167c",
   "metadata": {},
   "outputs": [],
   "source": [
    "def nombre_de_mi_funcion():\n",
    "    print('Hello World!')"
   ]
  },
  {
   "cell_type": "code",
   "execution_count": 6,
   "id": "6fa63e94",
   "metadata": {},
   "outputs": [
    {
     "name": "stdout",
     "output_type": "stream",
     "text": [
      "Hello World!\n"
     ]
    }
   ],
   "source": [
    "nombre_de_mi_funcion()"
   ]
  },
  {
   "cell_type": "code",
   "execution_count": null,
   "id": "cdf576f1",
   "metadata": {},
   "outputs": [],
   "source": [
    "limpieza_de_bd(BD)"
   ]
  },
  {
   "cell_type": "code",
   "execution_count": null,
   "id": "99f43871",
   "metadata": {},
   "outputs": [],
   "source": [
    "def limpieza_de_bd(base_de_datos):\n",
    "    datos = traer_datos(base_de_datos)\n",
    "    datos_filtrados = filtrar_datos(datos)\n",
    "    datos_limpios = limpieza_de_texto(datos_filtrados)\n",
    "    return datos_limpios"
   ]
  },
  {
   "cell_type": "code",
   "execution_count": null,
   "id": "1644527c",
   "metadata": {},
   "outputs": [],
   "source": [
    "str, int, def, super, in, for #Built-in"
   ]
  },
  {
   "cell_type": "code",
   "execution_count": 10,
   "id": "2c605f87",
   "metadata": {},
   "outputs": [],
   "source": [
    "esto_es_una_variable_global = 10 #Esto está en todo nuestro \n",
    "# espacio del jupyter o de nuestro script python "
   ]
  },
  {
   "cell_type": "code",
   "execution_count": 8,
   "id": "f0dd10b7",
   "metadata": {},
   "outputs": [],
   "source": [
    "def funcion_de_prueba():\n",
    "    print(esta_es_una_variable_global)"
   ]
  },
  {
   "cell_type": "code",
   "execution_count": 9,
   "id": "00754638",
   "metadata": {},
   "outputs": [
    {
     "data": {
      "text/plain": [
       "10"
      ]
     },
     "execution_count": 9,
     "metadata": {},
     "output_type": "execute_result"
    }
   ],
   "source": [
    "esto_es_una_variable_global"
   ]
  },
  {
   "cell_type": "code",
   "execution_count": 12,
   "id": "dad2bf21",
   "metadata": {},
   "outputs": [
    {
     "name": "stdout",
     "output_type": "stream",
     "text": [
      "42 global scope\n",
      "7\n"
     ]
    }
   ],
   "source": [
    "def local():\n",
    "    chuchu = 7\n",
    "    print(chuchu)\n",
    "    \n",
    "chuchu = 42\n",
    "\n",
    "print(chuchu, 'global scope')\n",
    "\n",
    "local()"
   ]
  },
  {
   "cell_type": "code",
   "execution_count": 13,
   "id": "df0c65be",
   "metadata": {},
   "outputs": [
    {
     "name": "stdout",
     "output_type": "stream",
     "text": [
      "42\n"
     ]
    }
   ],
   "source": [
    "numero = 42\n",
    "\n",
    "def funcion(x):\n",
    "    print(x)\n",
    "    \n",
    "funcion(numero)"
   ]
  },
  {
   "cell_type": "markdown",
   "id": "de4cd667",
   "metadata": {},
   "source": [
    "pagina web recomendada: python tutor"
   ]
  },
  {
   "cell_type": "code",
   "execution_count": 16,
   "id": "0721b47e",
   "metadata": {},
   "outputs": [
    {
     "name": "stdout",
     "output_type": "stream",
     "text": [
      "[1, 2, 42]\n"
     ]
    }
   ],
   "source": [
    "# procurar no hacer esto\n",
    "\n",
    "lista = [1, 2, 3] # igual termina modificando la lista asi sea localmente (dentro de la función)\n",
    "\n",
    "def funcion(lista):\n",
    "    lista[2] = 42\n",
    "\n",
    "funcion(lista)\n",
    "\n",
    "print(lista)"
   ]
  },
  {
   "cell_type": "code",
   "execution_count": 17,
   "id": "34c6d7d6",
   "metadata": {},
   "outputs": [
    {
     "name": "stdout",
     "output_type": "stream",
     "text": [
      "2 4 6\n",
      "4 6 2\n"
     ]
    }
   ],
   "source": [
    "# Argumentos posicionales \n",
    "\n",
    "def funcion_posicional(a, b, c):\n",
    "    print(a, b, c)\n",
    "    \n",
    "funcion_posicional(2, 4, 6)\n",
    "funcion_posicional(4, 6, 2)"
   ]
  },
  {
   "cell_type": "code",
   "execution_count": 18,
   "id": "52cc2ffc",
   "metadata": {},
   "outputs": [
    {
     "name": "stdout",
     "output_type": "stream",
     "text": [
      "2 4 6\n"
     ]
    }
   ],
   "source": [
    "# Keyword arguments\n",
    "\n",
    "def funcion_keywords(a, b, c):\n",
    "    print(a, b, c)\n",
    "    \n",
    "funcion_keywords(a=2, b=4, c=6)"
   ]
  },
  {
   "cell_type": "code",
   "execution_count": 19,
   "id": "41e8680a",
   "metadata": {},
   "outputs": [
    {
     "name": "stdout",
     "output_type": "stream",
     "text": [
      "2 4 6\n"
     ]
    }
   ],
   "source": [
    "funcion_keywords(b=4, c=6, a=2)"
   ]
  },
  {
   "cell_type": "code",
   "execution_count": 25,
   "id": "c2ca5bbb",
   "metadata": {},
   "outputs": [
    {
     "name": "stdout",
     "output_type": "stream",
     "text": [
      "9 42 30\n",
      "1 2 3\n",
      "42 42 10\n",
      "9 8 7\n"
     ]
    },
    {
     "ename": "TypeError",
     "evalue": "funcion_keywords_dos() missing 1 required positional argument: 'a'",
     "output_type": "error",
     "traceback": [
      "\u001b[1;31m---------------------------------------------------------------------------\u001b[0m",
      "\u001b[1;31mTypeError\u001b[0m                                 Traceback (most recent call last)",
      "\u001b[1;32m<ipython-input-25-3a28f3e0c7ed>\u001b[0m in \u001b[0;36m<module>\u001b[1;34m\u001b[0m\n\u001b[0;32m      6\u001b[0m \u001b[0mfuncion_keywords_dos\u001b[0m\u001b[1;33m(\u001b[0m\u001b[1;36m42\u001b[0m\u001b[1;33m,\u001b[0m \u001b[0mc\u001b[0m\u001b[1;33m=\u001b[0m\u001b[1;36m10\u001b[0m\u001b[1;33m)\u001b[0m\u001b[1;33m\u001b[0m\u001b[1;33m\u001b[0m\u001b[0m\n\u001b[0;32m      7\u001b[0m \u001b[0mfuncion_keywords_dos\u001b[0m\u001b[1;33m(\u001b[0m\u001b[1;36m9\u001b[0m\u001b[1;33m,\u001b[0m \u001b[1;36m8\u001b[0m\u001b[1;33m,\u001b[0m \u001b[1;36m7\u001b[0m\u001b[1;33m)\u001b[0m\u001b[1;33m\u001b[0m\u001b[1;33m\u001b[0m\u001b[0m\n\u001b[1;32m----> 8\u001b[1;33m \u001b[0mfuncion_keywords_dos\u001b[0m\u001b[1;33m(\u001b[0m\u001b[0mc\u001b[0m\u001b[1;33m=\u001b[0m\u001b[1;36m15\u001b[0m\u001b[1;33m)\u001b[0m\u001b[1;33m\u001b[0m\u001b[1;33m\u001b[0m\u001b[0m\n\u001b[0m",
      "\u001b[1;31mTypeError\u001b[0m: funcion_keywords_dos() missing 1 required positional argument: 'a'"
     ]
    }
   ],
   "source": [
    "def funcion_keywords_dos(a, b=42, c=30):\n",
    "    print(a, b, c)\n",
    "    \n",
    "funcion_keywords_dos(9)\n",
    "funcion_keywords_dos(b=2, a=1, c=3)\n",
    "funcion_keywords_dos(42, c=10)\n",
    "funcion_keywords_dos(9, 8, 7)\n",
    "funcion_keywords_dos(c=15)"
   ]
  },
  {
   "cell_type": "code",
   "execution_count": 26,
   "id": "00682b23",
   "metadata": {},
   "outputs": [
    {
     "name": "stdout",
     "output_type": "stream",
     "text": [
      "1 2 4\n"
     ]
    }
   ],
   "source": [
    "print(*[1, 2, 4])"
   ]
  },
  {
   "cell_type": "code",
   "execution_count": 28,
   "id": "7a852196",
   "metadata": {},
   "outputs": [
    {
     "name": "stdout",
     "output_type": "stream",
     "text": [
      "(1, 2, 3, 5)\n",
      "((1, 2, 3, 5),)\n"
     ]
    }
   ],
   "source": [
    "# Argumentos variables\n",
    "\n",
    "def funcion_args(*args):\n",
    "    print(args)\n",
    "    \n",
    "valores = (1, 2, 3, 5)\n",
    "\n",
    "funcion_args(*valores)\n",
    "funcion_args(valores)"
   ]
  },
  {
   "cell_type": "code",
   "execution_count": 29,
   "id": "30b5dd25",
   "metadata": {},
   "outputs": [
    {
     "name": "stdout",
     "output_type": "stream",
     "text": [
      "(1, 2, 3, 5)\n",
      "11\n"
     ]
    }
   ],
   "source": [
    "def funcion_args(*args):\n",
    "    print(args)\n",
    "    a, b, c, d = args\n",
    "    \n",
    "    print(a+b+c+d)\n",
    "    \n",
    "valores = (1, 2, 3, 5)\n",
    "\n",
    "funcion_args(*valores)\n",
    "    \n",
    "    "
   ]
  },
  {
   "cell_type": "code",
   "execution_count": 34,
   "id": "31752e7f",
   "metadata": {},
   "outputs": [
    {
     "name": "stdout",
     "output_type": "stream",
     "text": [
      "{'a': 1, 'b': 2}\n",
      "{'a': 1, 'b': 2}\n",
      "{'a': 1, 'b': 2, 'c': 3, 'ache': 'aadid'}\n"
     ]
    }
   ],
   "source": [
    "def funcion_kwargs(**kwargs):\n",
    "    print(kwargs)\n",
    "    \n",
    "diccionario = {'a': 1, 'b': 2}\n",
    "\n",
    "funcion_kwargs(**diccionario)\n",
    "# funcion_kwargs(diccionario) # Esto marca error\n",
    "\n",
    "funcion_kwargs(a=1, b=2)\n",
    "funcion_kwargs(a=1, b=2, c=3, ache='aadid')"
   ]
  },
  {
   "cell_type": "code",
   "execution_count": 33,
   "id": "d07a94f5",
   "metadata": {},
   "outputs": [
    {
     "data": {
      "text/plain": [
       "{'llave': 4}"
      ]
     },
     "execution_count": 33,
     "metadata": {},
     "output_type": "execute_result"
    }
   ],
   "source": [
    "dict(llave=4)"
   ]
  },
  {
   "cell_type": "code",
   "execution_count": 38,
   "id": "877b8aa1",
   "metadata": {},
   "outputs": [
    {
     "name": "stdout",
     "output_type": "stream",
     "text": [
      "a, b, c: 1 2 3\n",
      "args: (6, 7, 8)\n",
      "kwargs: {'A': 'a'}\n"
     ]
    }
   ],
   "source": [
    "def funcion_con_todos_los_tipos_de_parametros(a, b, c=7, *args, **kwargs):\n",
    "    print('a, b, c:', a, b, c)\n",
    "    print('args:', args)\n",
    "    print('kwargs:', kwargs)\n",
    "    \n",
    "\n",
    "funcion_con_todos_los_tipos_de_parametros(1, 2, 3, *(6, 7, 8), **{'A':'a'})"
   ]
  },
  {
   "cell_type": "code",
   "execution_count": 39,
   "id": "fe51463c",
   "metadata": {},
   "outputs": [],
   "source": [
    "def funcion(entero):\n",
    "    return entero ** 2"
   ]
  },
  {
   "cell_type": "code",
   "execution_count": 40,
   "id": "db90c1a1",
   "metadata": {},
   "outputs": [],
   "source": [
    "entero_cuadrado = funcion(5)\n"
   ]
  },
  {
   "cell_type": "code",
   "execution_count": 41,
   "id": "6e12cd5b",
   "metadata": {},
   "outputs": [
    {
     "data": {
      "text/plain": [
       "25"
      ]
     },
     "execution_count": 41,
     "metadata": {},
     "output_type": "execute_result"
    }
   ],
   "source": [
    "entero_cuadrado"
   ]
  },
  {
   "cell_type": "code",
   "execution_count": 44,
   "id": "822a20b2",
   "metadata": {},
   "outputs": [],
   "source": [
    "def funcion(entero):\n",
    "    print(entero ** 2)\n",
    "    \n",
    "# cuando no tengo un return las funciones me van a regresar NONE"
   ]
  },
  {
   "cell_type": "code",
   "execution_count": 45,
   "id": "729c65d6",
   "metadata": {},
   "outputs": [
    {
     "name": "stdout",
     "output_type": "stream",
     "text": [
      "25\n"
     ]
    }
   ],
   "source": [
    "entero_cuadrado = funcion(5)\n",
    "entero_cuadrado"
   ]
  },
  {
   "cell_type": "code",
   "execution_count": 46,
   "id": "f86b329a",
   "metadata": {},
   "outputs": [],
   "source": [
    "def mi_funcion(df,k=3):\n",
    "    \"\"\"Regresa la suma de df más k\"\"\"\n",
    "    return df + k"
   ]
  },
  {
   "cell_type": "code",
   "execution_count": 48,
   "id": "58a12a70",
   "metadata": {},
   "outputs": [
    {
     "data": {
      "text/plain": [
       "'Regresa la suma de df más k'"
      ]
     },
     "execution_count": 48,
     "metadata": {},
     "output_type": "execute_result"
    }
   ],
   "source": [
    "mi_funcion.__doc__"
   ]
  },
  {
   "cell_type": "code",
   "execution_count": 51,
   "id": "e6601b19",
   "metadata": {},
   "outputs": [],
   "source": [
    "print?"
   ]
  },
  {
   "cell_type": "code",
   "execution_count": 52,
   "id": "287f2395",
   "metadata": {},
   "outputs": [],
   "source": [
    "mi_funcion?"
   ]
  },
  {
   "cell_type": "code",
   "execution_count": null,
   "id": "4845bc72",
   "metadata": {},
   "outputs": [],
   "source": [
    "def func(a=[], b=[]):"
   ]
  }
 ],
 "metadata": {
  "kernelspec": {
   "display_name": "Python 3",
   "language": "python",
   "name": "python3"
  },
  "language_info": {
   "codemirror_mode": {
    "name": "ipython",
    "version": 3
   },
   "file_extension": ".py",
   "mimetype": "text/x-python",
   "name": "python",
   "nbconvert_exporter": "python",
   "pygments_lexer": "ipython3",
   "version": "3.8.8"
  }
 },
 "nbformat": 4,
 "nbformat_minor": 5
}
